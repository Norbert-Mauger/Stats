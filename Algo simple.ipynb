{
 "cells": [
  {
   "cell_type": "code",
   "execution_count": 3,
   "metadata": {
    "collapsed": false
   },
   "outputs": [
    {
     "name": "stdout",
     "output_type": "stream",
     "text": [
      "n =  1\n",
      "a =  0.72\n",
      "n =  2\n",
      "a =  0.552\n",
      "n =  3\n",
      "a =  0.4512\n",
      "n =  4\n",
      "a =  0.39071999999999996\n",
      "n =  5\n",
      "a =  0.35443199999999997\n",
      "n =  6\n",
      "a =  0.33265919999999993\n",
      "n =  7\n",
      "a =  0.3195955199999999\n",
      "n = 7\n"
     ]
    }
   ],
   "source": [
    "a = 1\n",
    "n = 0\n",
    "\n",
    "while a > 0.32:\n",
    "    n = n + 1\n",
    "    print('n = ', n)\n",
    "    a = a * 0.6 + 0.12\n",
    "    print('a = ', a)\n",
    "    \n",
    "    \n",
    "print('n =', n)"
   ]
  },
  {
   "cell_type": "code",
   "execution_count": null,
   "metadata": {
    "collapsed": true
   },
   "outputs": [],
   "source": []
  }
 ],
 "metadata": {
  "kernelspec": {
   "display_name": "Python 3",
   "language": "python",
   "name": "python3"
  },
  "language_info": {
   "codemirror_mode": {
    "name": "ipython",
    "version": 3
   },
   "file_extension": ".py",
   "mimetype": "text/x-python",
   "name": "python",
   "nbconvert_exporter": "python",
   "pygments_lexer": "ipython3",
   "version": "3.5.1"
  }
 },
 "nbformat": 4,
 "nbformat_minor": 0
}
