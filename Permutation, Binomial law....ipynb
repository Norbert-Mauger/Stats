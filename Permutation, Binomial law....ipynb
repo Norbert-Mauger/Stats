{
 "cells": [
  {
   "cell_type": "markdown",
   "metadata": {},
   "source": [
    "# Refresher\n",
    "### Lambda expressions, Map, Reduce...\n",
    "Lambda : anonymous function  \n",
    "Map : generate a list given a function and other list  \n",
    "Reduce : generate a result iterating in a list and using a function\n"
   ]
  },
  {
   "cell_type": "code",
   "execution_count": 30,
   "metadata": {
    "collapsed": false
   },
   "outputs": [
    {
     "name": "stdout",
     "output_type": "stream",
     "text": [
      "[1, 4, 9, 16, 25, 100, 400, 900, 2500, 10000]\n"
     ]
    }
   ],
   "source": [
    "arr = [1,2,3,4,5,10,20,30,50,100]\n",
    "sqr_array = list(map(lambda x: x*x, arr))\n",
    "print(sqr_array)"
   ]
  },
  {
   "cell_type": "code",
   "execution_count": 72,
   "metadata": {
    "collapsed": false
   },
   "outputs": [
    {
     "name": "stdout",
     "output_type": "stream",
     "text": [
      "dot product: 9109647\n",
      "Numpy dot product: 9109647\n"
     ]
    }
   ],
   "source": [
    "vec1 = [3,4,23,330,3000]\n",
    "vec2 = [1,2,32, 330,3000]\n",
    "\n",
    "dot_product = ft.reduce(lambda x,y: x+y, map(lambda x,y: x*y, vec1, vec2))\n",
    "print('dot product:', dot_product)\n",
    "\n",
    "import numpy as np\n",
    "vec1 = np.array(vec1)\n",
    "vec2 = np.array(vec2)\n",
    "np_dot = np.dot(vec1,vec2)\n",
    "print('Numpy dot product:', np_dot)"
   ]
  },
  {
   "cell_type": "code",
   "execution_count": 75,
   "metadata": {
    "collapsed": false
   },
   "outputs": [
    {
     "name": "stdout",
     "output_type": "stream",
     "text": [
      "[102.56, 97.7, 99.14, 100.00004]\n"
     ]
    }
   ],
   "source": [
    "Celsius = [39.2, 36.5, 37.3, 37.7778]\n",
    "Fahrenheit = map(lambda x: (float(9)/5)*x + 32, Celsius)\n",
    "print(list(Fahrenheit))"
   ]
  },
  {
   "cell_type": "code",
   "execution_count": 76,
   "metadata": {
    "collapsed": false
   },
   "outputs": [
    {
     "data": {
      "text/plain": [
       "102"
      ]
     },
     "execution_count": 76,
     "metadata": {},
     "output_type": "execute_result"
    }
   ],
   "source": [
    "f = lambda a,b: a if (a > b) else b\n",
    "ft.reduce(f, [47,11,42,102,13])\n",
    "102"
   ]
  },
  {
   "cell_type": "markdown",
   "metadata": {},
   "source": [
    "Generating the sum of the _n_ first integers in one line"
   ]
  },
  {
   "cell_type": "code",
   "execution_count": 77,
   "metadata": {
    "collapsed": false
   },
   "outputs": [
    {
     "name": "stdout",
     "output_type": "stream",
     "text": [
      "5050\n",
      "3628800\n"
     ]
    }
   ],
   "source": [
    "print(ft.reduce(lambda x,y: x+y, range(101)))\n",
    "# and now in just one line, the product \n",
    "print(ft.reduce(lambda x,y: x*y, range(1,11)))"
   ]
  },
  {
   "cell_type": "markdown",
   "metadata": {},
   "source": [
    "# Permutations, Binomial law...\n"
   ]
  },
  {
   "cell_type": "code",
   "execution_count": 5,
   "metadata": {
    "collapsed": true
   },
   "outputs": [],
   "source": [
    "import operator as op\n",
    "import functools as ft\n",
    "def nCk(n, r):\n",
    "    r = min(r, n-r)\n",
    "    if r == 0: return 1\n",
    "    numer = ft.reduce(op.mul, range(n, n-r, -1))\n",
    "    denom = ft.reduce(op.mul, range(1, r+1))\n",
    "    return numer//denom\n",
    "\n",
    "def nAk(n,k):\n",
    "    r = min(k, n-k)\n",
    "    if k == 0: return 1\n",
    "    numer = ft.reduce(op.mul, range(n-k+1,n+1,1))\n",
    "    #numer = ft.reduce(op.mul, range(n,n-k,-1)) #équivalent...\n",
    "    return numer\n",
    "\n",
    "def nGk(n,k):\n",
    "    return nCk(n+k-1, k)"
   ]
  },
  {
   "cell_type": "code",
   "execution_count": 7,
   "metadata": {
    "collapsed": false
   },
   "outputs": [
    {
     "name": "stdout",
     "output_type": "stream",
     "text": [
      "C(n,k) =  210\n",
      "A(n,k) =  42\n",
      "A(n,k)/n! =  210\n",
      "G(n,k) =  35\n"
     ]
    }
   ],
   "source": [
    "print('C(n,k) = ', nCk(10,4))\n",
    "print('A(n,k) = ', nAk(7,2))\n",
    "print('A(n,k)/n! = ', nAk(10,4)//ft.reduce(op.mul, range(1,4+1)))\n",
    "print('G(n,k) = ', nGk(5,3))"
   ]
  },
  {
   "cell_type": "markdown",
   "metadata": {
    "collapsed": true
   },
   "source": [
    "Mean of binomial law : $\\bar{m} = n*p$  \n",
    "Standard-deviation ou Ecart-type : $\\sigma = \\sqrt{n*p*(1-p)}$"
   ]
  },
  {
   "cell_type": "markdown",
   "metadata": {},
   "source": [
    "## Binomial Law (following Ecole Polytechnique doc)\n",
    "(http://www.cmap.polytechnique.fr/~gaiffas/gaiffas/files/MAP441/tp1/tp1.pdf) [Document TP]"
   ]
  },
  {
   "cell_type": "code",
   "execution_count": 94,
   "metadata": {
    "collapsed": false
   },
   "outputs": [
    {
     "name": "stdout",
     "output_type": "stream",
     "text": [
      "[  0   0   0   0   0   0   0   0   0   0   0   0   0   0   0   0   0   0\n",
      "   0   0   0   0   0   0   0   0   0   0   0   0   1   1   0   1   5   8\n",
      "  20  19  44  91 112 140 223 302 433 501 601 686 736 812 760 735 745 639\n",
      " 568 503 370 280 233 153 101  56  50  37  14  11   2   5   0   1   1]\n",
      "71\n"
     ]
    },
    {
     "data": {
      "image/png": "[encoded data removed]",
      "text/plain": [
       "<matplotlib.figure.Figure at 0x1f9d0001668>"
      ]
     },
     "metadata": {},
     "output_type": "display_data"
    }
   ],
   "source": [
    "import numpy as np\n",
    "from matplotlib import pyplot as plt\n",
    "%matplotlib inline\n",
    "\n",
    "#Random flips...\n",
    "nbTests = 100\n",
    "binomial_set = np.sort(np.random.binomial(nbTests, 0.5, 10000))\n",
    "count = np.bincount(binomial_set)\n",
    "print(count)\n",
    "print(len(count))\n",
    "\n",
    "plt.bar(range(len(count)),count, alpha=0.5)\n",
    "plt.xlim((0,nbTests))\n",
    "plt.show()\n"
   ]
  },
  {
   "cell_type": "code",
   "execution_count": null,
   "metadata": {
    "collapsed": true
   },
   "outputs": [],
   "source": []
  },
  {
   "cell_type": "code",
   "execution_count": null,
   "metadata": {
    "collapsed": true
   },
   "outputs": [],
   "source": []
  }
 ],
 "metadata": {
  "kernelspec": {
   "display_name": "Python 3",
   "language": "python",
   "name": "python3"
  },
  "language_info": {
   "codemirror_mode": {
    "name": "ipython",
    "version": 3
   },
   "file_extension": ".py",
   "mimetype": "text/x-python",
   "name": "python",
   "nbconvert_exporter": "python",
   "pygments_lexer": "ipython3",
   "version": "3.5.1"
  }
 },
 "nbformat": 4,
 "nbformat_minor": 0
}
